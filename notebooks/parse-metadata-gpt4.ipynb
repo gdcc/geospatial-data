{
 "cells": [
  {
   "cell_type": "code",
   "execution_count": null,
   "metadata": {},
   "outputs": [],
   "source": [
    "# Uncomment the following line to install all dependencies\n",
    "# !pip install openai instructor pydantic tqdm"
   ]
  },
  {
   "cell_type": "markdown",
   "metadata": {},
   "source": [
    "# Parsing Dataverse metadata using GPT4\n",
    "\n",
    "This notebook demonstrates how to use GPT4 to extract metadata from Dataverse datasets. The dataset metadata has been obtained from the [Harvard Dataverse](https://dataverse.harvard.edu/) repository, a platform that facilitates sharing and preservation of research data. To extract the metadata, we've utilized the [Dataverse API](https://guides.dataverse.org/en/latest/api/index.html) and saved the output as a JSON file.\n",
    "\n",
    "Our goal with this notebook is to leverage GPT4 to extract metadata from unstructured data and convert it into a structured format using [`instructor`](https://jxnl.github.io/instructor/) compliant with a questionnaire model, implemented through [`pydantic`](https://docs.pydantic.dev/latest/) classes. This approach allows us to obtain metadata in a structured format, which can be further analyzed and scaled with ease.\n",
    "\n",
    "Please note, in order to use this notebook it is necessary to provide an OpenAI API Token via the `OPENAPI_API_KEY` environment variable and sufficient credits to use GPT-4."
   ]
  },
  {
   "cell_type": "code",
   "execution_count": 1,
   "metadata": {},
   "outputs": [],
   "source": [
    "import openai\n",
    "import instructor\n",
    "import glob\n",
    "import os\n",
    "import json\n",
    "import tqdm\n",
    "\n",
    "from model.questionaires import ResponseModel\n",
    "\n",
    "instructor.patch(openai.OpenAI())\n",
    "openai.api_key = os.environ[\"OPENAI_API_KEY\"]"
   ]
  },
  {
   "cell_type": "code",
   "execution_count": 2,
   "metadata": {},
   "outputs": [],
   "source": [
    "descriptions = {}\n",
    "for path in glob.glob(\"../data/metadata/*.json\"):\n",
    "    fname = os.path.basename(path)\n",
    "    descriptions[fname] = {\n",
    "        \"description\": \n",
    "            json.load(open(path))\n",
    "                .get(\"data\")\n",
    "                .get(\"items\")[0]\n",
    "                .get(\"description\")\n",
    "    }"
   ]
  },
  {
   "cell_type": "code",
   "execution_count": 4,
   "metadata": {},
   "outputs": [
    {
     "name": "stderr",
     "output_type": "stream",
     "text": [
      "100%|██████████| 134/134 [15:24<00:00,  6.90s/it]\n"
     ]
    }
   ],
   "source": [
    "system_msg = \"You are a helpful assistant who understands geospatial sciences.\"\n",
    "\n",
    "for key in tqdm.tqdm(descriptions.keys()):\n",
    "    \n",
    "    if descriptions[key].get(\"response\"):\n",
    "        continue\n",
    "    \n",
    "    user_msg = (\n",
    "        \"Extract metadata from the following dataset description: \"\n",
    "        + descriptions[key][\"description\"]\n",
    "    )\n",
    "    \n",
    "    response: ResponseModel = openai.ChatCompletion.create(\n",
    "        model=\"gpt-4\",\n",
    "        response_model=ResponseModel,\n",
    "        messages=[\n",
    "            {\"role\": \"system\", \"content\": system_msg},\n",
    "            {\"role\": \"user\", \"content\": user_msg},\n",
    "        ],\n",
    "    )\n",
    "    \n",
    "    descriptions[key][\"response\"] = response.model_dump(exclude_unset=True)"
   ]
  },
  {
   "cell_type": "code",
   "execution_count": 6,
   "metadata": {},
   "outputs": [],
   "source": [
    "with open(\"../data/gpt4_on_metadata.json\", \"w\") as f:\n",
    "    json.dump(descriptions, f, indent=2)"
   ]
  }
 ],
 "metadata": {
  "kernelspec": {
   "display_name": "llm2sdrdm",
   "language": "python",
   "name": "python3"
  },
  "language_info": {
   "codemirror_mode": {
    "name": "ipython",
    "version": 3
   },
   "file_extension": ".py",
   "mimetype": "text/x-python",
   "name": "python",
   "nbconvert_exporter": "python",
   "pygments_lexer": "ipython3",
   "version": "3.10.13"
  }
 },
 "nbformat": 4,
 "nbformat_minor": 2
}
